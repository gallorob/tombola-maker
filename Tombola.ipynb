{
  "nbformat": 4,
  "nbformat_minor": 0,
  "metadata": {
    "colab": {
      "name": "Tombola.ipynb",
      "provenance": [],
      "authorship_tag": "ABX9TyOd/h5YxLf+7ZVuZqZjxS/H"
    },
    "kernelspec": {
      "name": "python3",
      "display_name": "Python 3"
    }
  },
  "cells": [
    {
      "cell_type": "markdown",
      "metadata": {
        "id": "5ka61xeaRkHf"
      },
      "source": [
        "# Tombola maker\r\n",
        "\r\n",
        "Since I couldn't play tombola IRL with my friends, I coded this Tombola cartella maker + number extractor.\r\n",
        "\r\n",
        "Why? Because."
      ]
    },
    {
      "cell_type": "code",
      "metadata": {
        "id": "4ELHYlorRifA"
      },
      "source": [
        "import numpy as np"
      ],
      "execution_count": 13,
      "outputs": []
    },
    {
      "cell_type": "markdown",
      "metadata": {
        "id": "FRIeXIQ4oHXD"
      },
      "source": [
        "### Game Functions"
      ]
    },
    {
      "cell_type": "code",
      "metadata": {
        "id": "k0vgdhLTR3Bp"
      },
      "source": [
        "def get_cartella() -> np.ndarray:\r\n",
        "    rng = np.random.default_rng()\r\n",
        "    cartella = np.zeros(shape=(3,9), dtype='int')  # a cartella is a 3x9 grid\r\n",
        "    n_for_file = np.zeros(shape=9, dtype=int)\r\n",
        "    # a cartella contains 15 values\r\n",
        "    while np.sum(n_for_file) != 15:  # is there a better way? Probably. Do I want to spend more time on it? No.\r\n",
        "        n_for_file = np.random.randint(low=1, high=3+1, size=9)\r\n",
        "    # this is a \"cheat\" way to get the numbers sorted already\r\n",
        "    for i, n in enumerate(n_for_file):\r\n",
        "        rand = np.sort(rng.choice(np.arange((i*10)+1, (i+1)*10), size=3, replace=False)[:n])\r\n",
        "        cartella[:n, i] = rand\r\n",
        "    return cartella"
      ],
      "execution_count": 14,
      "outputs": []
    },
    {
      "cell_type": "code",
      "metadata": {
        "id": "D3ylLuBMVOXY"
      },
      "source": [
        "def set_cartelle() -> None:\r\n",
        "    global players\r\n",
        "\r\n",
        "    for p in players.keys():\r\n",
        "        for n in range(players[p].get('n_cartelle', 1)):\r\n",
        "            players[p]['cartelle'].append(get_cartella())"
      ],
      "execution_count": 3,
      "outputs": []
    },
    {
      "cell_type": "code",
      "metadata": {
        "id": "u2I4QTGjYG7Z"
      },
      "source": [
        "def print_cartelle(player: str) -> None:\r\n",
        "    global players\r\n",
        "\r\n",
        "    cartelle = players[player]['cartelle']\r\n",
        "    print(f'{player}\\'s cartelle:')\r\n",
        "    for cartella in cartelle:\r\n",
        "        s = ''\r\n",
        "        for r in cartella:\r\n",
        "            for v in r:\r\n",
        "                s += f'| {str(v).zfill(2) if v != 0 else \"  \"} '\r\n",
        "            s += '|\\n'\r\n",
        "        print(s)"
      ],
      "execution_count": 4,
      "outputs": []
    },
    {
      "cell_type": "code",
      "metadata": {
        "id": "uD_KKHcLbK1i"
      },
      "source": [
        "def add_player(name: str,\r\n",
        "               n_cartelle: int) -> None:\r\n",
        "    global players\r\n",
        "\r\n",
        "    players[name] = {}\r\n",
        "    players[name]['n_cartelle'] = n_cartelle\r\n",
        "    players[name]['cartelle'] = []"
      ],
      "execution_count": 5,
      "outputs": []
    },
    {
      "cell_type": "code",
      "metadata": {
        "id": "_R3aljttev1s"
      },
      "source": [
        "def extract() -> int:\r\n",
        "    global extracted\r\n",
        "\r\n",
        "    assert len(extracted) <= 90, 'How has no one won yet? Impossible!'\r\n",
        "\r\n",
        "    n = 0\r\n",
        "    if len(extracted) == 0:\r\n",
        "        n = np.random.randint(1, 90+1)\r\n",
        "        extracted.add(n)\r\n",
        "    else:\r\n",
        "        invalid = True\r\n",
        "        while invalid:\r\n",
        "            n = np.random.randint(1, 90+1)\r\n",
        "            invalid &= n in extracted\r\n",
        "        extracted.add(n)\r\n",
        "    return n"
      ],
      "execution_count": 6,
      "outputs": []
    },
    {
      "cell_type": "markdown",
      "metadata": {
        "id": "405-tvCQoJ5M"
      },
      "source": [
        "### Game setup"
      ]
    },
    {
      "cell_type": "markdown",
      "metadata": {
        "id": "yVapdTu8oOYh"
      },
      "source": [
        "Global variables"
      ]
    },
    {
      "cell_type": "code",
      "metadata": {
        "id": "p_mbjobHoQTH"
      },
      "source": [
        "players = dict()\r\n",
        "extracted = set()"
      ],
      "execution_count": 7,
      "outputs": []
    },
    {
      "cell_type": "markdown",
      "metadata": {
        "id": "KJRHxsldoVl9"
      },
      "source": [
        "Modify these to setup the game"
      ]
    },
    {
      "cell_type": "code",
      "metadata": {
        "id": "TNVUKWZloY6c"
      },
      "source": [
        "pnames = ['test']\n",
        "pcartelle = [1]\n",
        " \n",
        "assert len(pnames) == len(pcartelle), 'Make sure each player has a specific number of cartelle to play with!'"
      ],
      "execution_count": 8,
      "outputs": []
    },
    {
      "cell_type": "markdown",
      "metadata": {
        "id": "0y9dMIBFolVh"
      },
      "source": [
        "Run setup"
      ]
    },
    {
      "cell_type": "code",
      "metadata": {
        "id": "oewx_cRPeKGf"
      },
      "source": [
        "for pname, n in zip(pnames, pcartelle):\n",
        "    add_player(name=pname,\n",
        "               n_cartelle=n)\n",
        " \n",
        "set_cartelle()"
      ],
      "execution_count": 15,
      "outputs": []
    },
    {
      "cell_type": "markdown",
      "metadata": {
        "id": "eha-WCmDowtA"
      },
      "source": [
        "Print cartelle"
      ]
    },
    {
      "cell_type": "code",
      "metadata": {
        "colab": {
          "base_uri": "https://localhost:8080/"
        },
        "id": "DZpseTVSeTSz",
        "outputId": "97ec67d4-f0d5-4f82-ef0a-f045a7b09d93"
      },
      "source": [
        "for p in players.keys():\r\n",
        "    print('---')\r\n",
        "    print_cartelle(p)"
      ],
      "execution_count": 16,
      "outputs": [
        {
          "output_type": "stream",
          "text": [
            "---\n",
            "test's cartelle:\n",
            "| 04 | 16 | 24 | 39 | 48 | 52 | 64 | 71 | 82 |\n",
            "| 07 |    | 25 |    |    |    | 66 | 79 | 88 |\n",
            "|    |    |    |    |    |    | 68 |    |    |\n",
            "\n"
          ],
          "name": "stdout"
        }
      ]
    },
    {
      "cell_type": "markdown",
      "metadata": {
        "id": "vpRvzbO4ozxk"
      },
      "source": [
        "Run this cell to extract the numbers"
      ]
    },
    {
      "cell_type": "code",
      "metadata": {
        "colab": {
          "base_uri": "https://localhost:8080/"
        },
        "id": "adJWEsaPo2k5",
        "outputId": "13365f81-49bd-469f-b9e4-807e91963a6f"
      },
      "source": [
        "print(f'Extracted number is: {extract()}')"
      ],
      "execution_count": 11,
      "outputs": [
        {
          "output_type": "stream",
          "text": [
            "Extracted number is: 2\n"
          ],
          "name": "stdout"
        }
      ]
    },
    {
      "cell_type": "markdown",
      "metadata": {
        "id": "20WIbMDYo7VZ"
      },
      "source": [
        "Run this cell to see all previously extracted numbers"
      ]
    },
    {
      "cell_type": "code",
      "metadata": {
        "colab": {
          "base_uri": "https://localhost:8080/"
        },
        "id": "T97UgXwio-xf",
        "outputId": "5e744d0c-a405-4100-e512-cd18bcfa4012"
      },
      "source": [
        "sorted = list(extracted)\r\n",
        "sorted.sort()\r\n",
        "print(f'All previously extracted numbers: {sorted}')"
      ],
      "execution_count": 12,
      "outputs": [
        {
          "output_type": "stream",
          "text": [
            "All previously extracted numbers: [2]\n"
          ],
          "name": "stdout"
        }
      ]
    }
  ]
}