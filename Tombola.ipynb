{
  "nbformat": 4,
  "nbformat_minor": 0,
  "metadata": {
    "colab": {
      "name": "Tombola.ipynb",
      "provenance": [],
      "authorship_tag": "ABX9TyO3ccAVyIjNSD4PstMgVzAi"
    },
    "kernelspec": {
      "name": "python3",
      "display_name": "Python 3"
    }
  },
  "cells": [
    {
      "cell_type": "markdown",
      "metadata": {
        "id": "5ka61xeaRkHf"
      },
      "source": [
        "# Tombola maker\r\n",
        "\r\n",
        "Since I couldn't play tombola IRL with my friends, I coded this Tombola cartella maker + number extractor.\r\n",
        "\r\n",
        "Why? Because."
      ]
    },
    {
      "cell_type": "code",
      "metadata": {
        "id": "4ELHYlorRifA"
      },
      "source": [
        "import numpy as np"
      ],
      "execution_count": 1,
      "outputs": []
    },
    {
      "cell_type": "markdown",
      "metadata": {
        "id": "FRIeXIQ4oHXD"
      },
      "source": [
        "### Game Functions"
      ]
    },
    {
      "cell_type": "code",
      "metadata": {
        "id": "Y8k9nFw27aeb"
      },
      "source": [
        "def is_valid(cartella) -> bool:\r\n",
        "    valid = True\r\n",
        "    for row in cartella:\r\n",
        "        valid &= np.sum([1 for i in row if i != 0]) == 5\r\n",
        "    return valid"
      ],
      "execution_count": 30,
      "outputs": []
    },
    {
      "cell_type": "code",
      "metadata": {
        "id": "ENrzj0zf8Kge"
      },
      "source": [
        "def clean_row(row, i, cartella):\r\n",
        "    diff = np.sum([1 for i in row if i != 0]) - 5\r\n",
        "    while diff > 0:\r\n",
        "        for j, v in enumerate(row):\r\n",
        "            idx = i + 1 if i+1<3 else i-1\r\n",
        "            if cartella[idx, j] == 0:\r\n",
        "                cartella[idx, j] = v\r\n",
        "                cartella[i, j] = 0\r\n",
        "                diff -= 1\r\n",
        "            if diff == 0:\r\n",
        "                break"
      ],
      "execution_count": 31,
      "outputs": []
    },
    {
      "cell_type": "code",
      "metadata": {
        "id": "k0vgdhLTR3Bp"
      },
      "source": [
        "def get_cartella() -> np.ndarray:\r\n",
        "    rng = np.random.default_rng()\r\n",
        "    cartella = np.zeros(shape=(3,9), dtype='int')  # a cartella is a 3x9 grid\r\n",
        "    n_for_file = np.zeros(shape=9, dtype=int)\r\n",
        "    # a cartella contains 15 values\r\n",
        "    while np.sum(n_for_file) != 15:  # is there a better way? Probably. Do I want to spend more time on it? No.\r\n",
        "        n_for_file = np.random.randint(low=1, high=3+1, size=9)\r\n",
        "    # this is a \"cheat\" way to get the numbers sorted already\r\n",
        "    for i, n in enumerate(n_for_file):\r\n",
        "        rand = np.sort(rng.choice(np.arange((i*10)+1, (i+1)*10), size=3, replace=False)[:n])\r\n",
        "        cartella[:n, i] = rand\r\n",
        "    # only 5 numbers per row\r\n",
        "    while not is_valid(cartella):\r\n",
        "        for i, row in enumerate(cartella):\r\n",
        "            clean_row(row, i, cartella)\r\n",
        "    return cartella"
      ],
      "execution_count": 29,
      "outputs": []
    },
    {
      "cell_type": "code",
      "metadata": {
        "id": "D3ylLuBMVOXY"
      },
      "source": [
        "def set_cartelle() -> None:\r\n",
        "    global players\r\n",
        "\r\n",
        "    for p in players.keys():\r\n",
        "        for n in range(players[p].get('n_cartelle', 1)):\r\n",
        "            players[p]['cartelle'].append(get_cartella())"
      ],
      "execution_count": 34,
      "outputs": []
    },
    {
      "cell_type": "code",
      "metadata": {
        "id": "u2I4QTGjYG7Z"
      },
      "source": [
        "def print_cartelle(player: str) -> None:\r\n",
        "    global players\r\n",
        "\r\n",
        "    cartelle = players[player]['cartelle']\r\n",
        "    print(f'{player}\\'s cartelle:')\r\n",
        "    for cartella in cartelle:\r\n",
        "        s = ''\r\n",
        "        for r in cartella:\r\n",
        "            for v in r:\r\n",
        "                s += f'| {str(v).zfill(2) if v != 0 else \"  \"} '\r\n",
        "            s += '|\\n'\r\n",
        "        print(s)"
      ],
      "execution_count": 35,
      "outputs": []
    },
    {
      "cell_type": "code",
      "metadata": {
        "id": "uD_KKHcLbK1i"
      },
      "source": [
        "def add_player(name: str,\r\n",
        "               n_cartelle: int) -> None:\r\n",
        "    global players\r\n",
        "\r\n",
        "    players[name] = {}\r\n",
        "    players[name]['n_cartelle'] = n_cartelle\r\n",
        "    players[name]['cartelle'] = []"
      ],
      "execution_count": 36,
      "outputs": []
    },
    {
      "cell_type": "code",
      "metadata": {
        "id": "_R3aljttev1s"
      },
      "source": [
        "def extract() -> int:\r\n",
        "    global extracted\r\n",
        "\r\n",
        "    assert len(extracted) <= 90, 'How has no one won yet? Impossible!'\r\n",
        "\r\n",
        "    n = 0\r\n",
        "    if len(extracted) == 0:\r\n",
        "        n = np.random.randint(1, 90+1)\r\n",
        "        extracted.add(n)\r\n",
        "    else:\r\n",
        "        invalid = True\r\n",
        "        while invalid:\r\n",
        "            n = np.random.randint(1, 90+1)\r\n",
        "            invalid &= n in extracted\r\n",
        "        extracted.add(n)\r\n",
        "    return n"
      ],
      "execution_count": 37,
      "outputs": []
    },
    {
      "cell_type": "markdown",
      "metadata": {
        "id": "405-tvCQoJ5M"
      },
      "source": [
        "### Game setup"
      ]
    },
    {
      "cell_type": "markdown",
      "metadata": {
        "id": "yVapdTu8oOYh"
      },
      "source": [
        "Global variables"
      ]
    },
    {
      "cell_type": "code",
      "metadata": {
        "id": "p_mbjobHoQTH"
      },
      "source": [
        "players = dict()\r\n",
        "extracted = set()"
      ],
      "execution_count": 38,
      "outputs": []
    },
    {
      "cell_type": "markdown",
      "metadata": {
        "id": "KJRHxsldoVl9"
      },
      "source": [
        "Modify these to setup the game"
      ]
    },
    {
      "cell_type": "code",
      "metadata": {
        "id": "TNVUKWZloY6c"
      },
      "source": [
        "pnames = ['test']\n",
        "pcartelle = [1]\n",
        " \n",
        "assert len(pnames) == len(pcartelle), 'Make sure each player has a specific number of cartelle to play with!'"
      ],
      "execution_count": 39,
      "outputs": []
    },
    {
      "cell_type": "markdown",
      "metadata": {
        "id": "0y9dMIBFolVh"
      },
      "source": [
        "Run setup"
      ]
    },
    {
      "cell_type": "code",
      "metadata": {
        "id": "oewx_cRPeKGf"
      },
      "source": [
        "for pname, n in zip(pnames, pcartelle):\n",
        "    add_player(name=pname,\n",
        "               n_cartelle=n)\n",
        " \n",
        "set_cartelle()"
      ],
      "execution_count": 40,
      "outputs": []
    },
    {
      "cell_type": "markdown",
      "metadata": {
        "id": "eha-WCmDowtA"
      },
      "source": [
        "Print cartelle"
      ]
    },
    {
      "cell_type": "code",
      "metadata": {
        "colab": {
          "base_uri": "https://localhost:8080/"
        },
        "id": "DZpseTVSeTSz",
        "outputId": "02ad0032-212d-4343-864b-adea5e27d57b"
      },
      "source": [
        "for p in players.keys():\r\n",
        "    print('---')\r\n",
        "    print_cartelle(p)"
      ],
      "execution_count": 41,
      "outputs": [
        {
          "output_type": "stream",
          "text": [
            "---\n",
            "test's cartelle:\n",
            "| 03 |    | 22 |    | 45 | 53 |    |    | 81 |\n",
            "| 05 |    |    |    | 47 | 56 | 61 | 72 |    |\n",
            "| 09 | 16 | 27 | 32 | 48 |    |    |    |    |\n",
            "\n"
          ],
          "name": "stdout"
        }
      ]
    },
    {
      "cell_type": "markdown",
      "metadata": {
        "id": "vpRvzbO4ozxk"
      },
      "source": [
        "Run this cell to extract the numbers"
      ]
    },
    {
      "cell_type": "code",
      "metadata": {
        "colab": {
          "base_uri": "https://localhost:8080/"
        },
        "id": "adJWEsaPo2k5",
        "outputId": "ca9ef84d-ee36-41f8-b035-d22cad273917"
      },
      "source": [
        "print(f'Extracted number is: {extract()} (remaining: {90 - len(extracted)})')"
      ],
      "execution_count": 45,
      "outputs": [
        {
          "output_type": "stream",
          "text": [
            "Extracted number is: 88 (remaining: 88)\n"
          ],
          "name": "stdout"
        }
      ]
    },
    {
      "cell_type": "markdown",
      "metadata": {
        "id": "20WIbMDYo7VZ"
      },
      "source": [
        "Run this cell to see all previously extracted numbers"
      ]
    },
    {
      "cell_type": "code",
      "metadata": {
        "colab": {
          "base_uri": "https://localhost:8080/"
        },
        "id": "T97UgXwio-xf",
        "outputId": "69fac198-da4a-411f-8ab0-1329d2816b69"
      },
      "source": [
        "sorted = list(extracted)\r\n",
        "sorted.sort()\r\n",
        "print(f'All previously extracted numbers: {sorted}')"
      ],
      "execution_count": 46,
      "outputs": [
        {
          "output_type": "stream",
          "text": [
            "All previously extracted numbers: [27, 88]\n"
          ],
          "name": "stdout"
        }
      ]
    }
  ]
}